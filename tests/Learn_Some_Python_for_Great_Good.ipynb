{
 "cells": [
  {
   "cell_type": "code",
   "execution_count": 1,
   "metadata": {},
   "outputs": [],
   "source": [
    "def f(x):\n",
    "    return x + 1\n",
    "\n",
    "\n",
    "class Dog:\n",
    "    \n",
    "    def __init__(self, color):\n",
    "        self.color = color\n",
    "\n",
    "    def eat(self, food):\n",
    "        if food == 'vegetable':\n",
    "            raise ValueError('Dog cannot eat vegetable!')\n",
    "        print('Yummy yummy.')\n",
    "\n",
    "\n",
    "class Cat:\n",
    "    \n",
    "    def eat(self, food):\n",
    "        ...\n"
   ]
  },
  {
   "cell_type": "markdown",
   "metadata": {},
   "source": [
    "```julia\n",
    "function eat(x::Cat, food)\n",
    "    ...\n",
    "end\n",
    "\n",
    "\n",
    "function eat(x::Dog, food)\n",
    "    ...\n",
    "end\n",
    "```\n",
    "\n",
    "```python\n",
    "cat = Cat('white')\n",
    "Cate.eat(cat, food) -> cat.eat(food).\n",
    "```"
   ]
  },
  {
   "cell_type": "markdown",
   "metadata": {},
   "source": [
    "\"Dunder (double underlines) method\".\n",
    "\n",
    "```julia\n",
    "\n",
    "function Base.+(x::Vector, y::Vector)\n",
    "    ...\n",
    "end\n",
    "```\n",
    "\n",
    "\n",
    "```python\n",
    "class Vector:\n",
    "\n",
    "    # def add(self, other):\n",
    "    #     return ...\n",
    "    \n",
    "    @staticmethod\n",
    "    def add(x, y):\n",
    "        return ...\n",
    "\n",
    "\n",
    "x = Vector(...)\n",
    "y = Vector(...)\n",
    "# x_plus_y = x.add(y)\n",
    "x_plus_y = Vector.add(x, y)\n",
    "```\n",
    "\n",
    "```python\n",
    "class Vector:\n",
    "\n",
    "    def __add__(self, other):\n",
    "        return ...\n",
    "\n",
    "x = Vector(...)\n",
    "y = Vector(...)\n",
    "x_plus_y = x + y\n",
    "```"
   ]
  },
  {
   "cell_type": "code",
   "execution_count": null,
   "metadata": {},
   "outputs": [],
   "source": [
    "x = Dog(color='white')  # Dog.__init__(color='white').\n",
    "y = Dog(color='black')"
   ]
  },
  {
   "cell_type": "code",
   "execution_count": null,
   "metadata": {},
   "outputs": [],
   "source": [
    "with open('my_file.txt') as file:\n",
    "    x = file.readline()\n",
    "    raise ValueError()\n",
    "\n",
    "# Other codes below.\n",
    "..."
   ]
  }
 ],
 "metadata": {
  "kernelspec": {
   "display_name": "Python 3.9.12 64-bit (system)",
   "language": "python",
   "name": "python3"
  },
  "language_info": {
   "codemirror_mode": {
    "name": "ipython",
    "version": 3
   },
   "file_extension": ".py",
   "mimetype": "text/x-python",
   "name": "python",
   "nbconvert_exporter": "python",
   "pygments_lexer": "ipython3",
   "version": "3.9.12"
  },
  "orig_nbformat": 4,
  "vscode": {
   "interpreter": {
    "hash": "667704c9cde27bc2120aa5af210b8dcad396b18ac5d66ebd3bcf266d25dea31f"
   }
  }
 },
 "nbformat": 4,
 "nbformat_minor": 2
}
