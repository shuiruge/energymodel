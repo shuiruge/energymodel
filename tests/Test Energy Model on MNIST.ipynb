{
 "cells": [
  {
   "cell_type": "code",
   "execution_count": 1,
   "metadata": {},
   "outputs": [
    {
     "name": "stderr",
     "output_type": "stream",
     "text": [
      "C:\\Users\\shuir\\scoop\\apps\\miniconda3\\current\\lib\\site-packages\\tqdm\\auto.py:22: TqdmWarning: IProgress not found. Please update jupyter and ipywidgets. See https://ipywidgets.readthedocs.io/en/stable/user_install.html\n",
      "  from .autonotebook import tqdm as notebook_tqdm\n"
     ]
    }
   ],
   "source": [
    "import tensorflow as tf\n",
    "from tensorflow.keras import models, layers\n",
    "import tensorflow_datasets as tfds\n",
    "import matplotlib.pyplot as plt\n",
    "from tqdm import tqdm\n",
    "\n",
    "from energymodel import (\n",
    "    EnergyModel, random_uniform, RandomWalk,\n",
    "    LossMonitor, FantasyParticleMonitor, VectorFieldMonitor, LossGradientMonitor,\n",
    ")\n",
    "\n",
    "tf.compat.v1.reset_default_graph()"
   ]
  },
  {
   "cell_type": "markdown",
   "metadata": {},
   "source": [
    "## Dataset"
   ]
  },
  {
   "cell_type": "code",
   "execution_count": 2,
   "metadata": {},
   "outputs": [],
   "source": [
    "(dataset, _), info = tfds.load(\n",
    "    'mnist',\n",
    "    split=['train', 'test'],\n",
    "    shuffle_files=True,\n",
    "    as_supervised=True,\n",
    "    with_info=True,\n",
    ")\n",
    "\n",
    "def filter_img(image, label):\n",
    "    return image\n",
    "\n",
    "def normalize_img(image):\n",
    "    return 2 * tf.cast(image, 'float32') / 255 - 1\n",
    "\n",
    "def reshape_img(image):\n",
    "    return tf.reshape(image, [28, 28, 1])\n",
    "\n",
    "def preprocess_dataset(dataset, batch_size):\n",
    "    return (\n",
    "        dataset\n",
    "        .map(filter_img, num_parallel_calls=tf.data.AUTOTUNE)\n",
    "        .map(normalize_img, num_parallel_calls=tf.data.AUTOTUNE)\n",
    "        .map(reshape_img, num_parallel_calls=tf.data.AUTOTUNE)\n",
    "        .cache()\n",
    "        .shuffle(info.splits['train'].num_examples)\n",
    "        .batch(batch_size)\n",
    "        .prefetch(tf.data.AUTOTUNE)\n",
    "    )\n",
    "\n",
    "batch_size = 128\n",
    "dataset = preprocess_dataset(dataset, batch_size)"
   ]
  },
  {
   "cell_type": "markdown",
   "metadata": {},
   "source": [
    "## Model"
   ]
  },
  {
   "cell_type": "code",
   "execution_count": 3,
   "metadata": {},
   "outputs": [],
   "source": [
    "# We employ LeNet-like CNN as the network.\n",
    "# The activation function are changed from tanh to swish;\n",
    "# and the top dense layers are slightly adjusted. Output layer\n",
    "# has to be Dense(1, use_bias=False)\n",
    "\n",
    "from site import USER_BASE\n",
    "\n",
    "\n",
    "network = models.Sequential([\n",
    "    layers.Conv2D(6, kernel_size=5, strides=1, padding='same'),\n",
    "    layers.Activation('swish'),\n",
    "    layers.AveragePooling2D(pool_size=2, strides=2, padding='valid'),\n",
    "\n",
    "    layers.Conv2D(16, kernel_size=5, strides=1, padding='valid'),\n",
    "    layers.Activation('swish'),\n",
    "    layers.AveragePooling2D(pool_size=2, strides=2, padding='valid'),\n",
    "\n",
    "    layers.Flatten(),\n",
    "\n",
    "    layers.Dense(256),\n",
    "    layers.Activation('swish'),\n",
    "\n",
    "    layers.Dense(64),\n",
    "    layers.Activation('swish'),\n",
    "\n",
    "    layers.Dense(1, use_bias=False),\n",
    "])\n",
    "input_shape = [28, 28, 1]\n",
    "network.build([None, *input_shape])\n",
    "fantasy_particles = random_uniform([batch_size, *input_shape])"
   ]
  },
  {
   "cell_type": "code",
   "execution_count": 4,
   "metadata": {},
   "outputs": [
    {
     "name": "stderr",
     "output_type": "stream",
     "text": [
      "'rm' is not recognized as an internal or external command,\n",
      "operable program or batch file.\n"
     ]
    }
   ],
   "source": [
    "!rm -rf ./logdir"
   ]
  },
  {
   "cell_type": "code",
   "execution_count": 5,
   "metadata": {},
   "outputs": [
    {
     "name": "stdout",
     "output_type": "stream",
     "text": [
      "T =  0.025\n"
     ]
    }
   ],
   "source": [
    "model = EnergyModel(\n",
    "    network,\n",
    "    fantasy_particles,\n",
    "    resample=lambda x: random_uniform(tf.shape(x)),\n",
    ")\n",
    "\n",
    "optimizer = tf.keras.optimizers.Adam(1e-3, clipvalue=1e-1)\n",
    "random_walk = RandomWalk.get_proper_instance(5e-0, 1e-1, 1e-1)\n",
    "tf.print('T = ', random_walk.T)\n",
    "writer = tf.summary.create_file_writer('./logdir')\n",
    "callbacks = [\n",
    "    LossMonitor(writer, 5),\n",
    "    FantasyParticleMonitor(writer, model, 5),\n",
    "    VectorFieldMonitor(writer, model, 5),\n",
    "    LossGradientMonitor(writer, model, 5),\n",
    "]\n",
    "\n",
    "train_step = model.get_optimize_fn(optimizer, random_walk, callbacks)\n",
    "train_step = tf.function(train_step)"
   ]
  },
  {
   "cell_type": "code",
   "execution_count": 24,
   "metadata": {},
   "outputs": [
    {
     "name": "stderr",
     "output_type": "stream",
     "text": [
      "100%|██████████| 469/469 [07:04<00:00,  1.11it/s]\n",
      "100%|██████████| 469/469 [07:25<00:00,  1.05it/s]\n"
     ]
    }
   ],
   "source": [
    "# Two epochs are enough!\n",
    "for epoch in range(2):\n",
    "    for batch in tqdm(dataset):\n",
    "        train_step(batch)"
   ]
  },
  {
   "cell_type": "markdown",
   "metadata": {},
   "source": [
    "## Evaluation"
   ]
  },
  {
   "cell_type": "code",
   "execution_count": 25,
   "metadata": {},
   "outputs": [],
   "source": [
    "test_X = list(dataset)[0]"
   ]
  },
  {
   "cell_type": "code",
   "execution_count": 71,
   "metadata": {},
   "outputs": [],
   "source": [
    "# If test denoise:\n",
    "noised_X = test_X + 0.5 * tf.random.truncated_normal(test_X.shape)\n",
    "\n",
    "# Or if test generation:\n",
    "# noised_X = random_uniform(test_X.shape)\n",
    "\n",
    "relaxed_X = model(noised_X, random_walk)"
   ]
  },
  {
   "cell_type": "code",
   "execution_count": 72,
   "metadata": {},
   "outputs": [],
   "source": [
    "def display_image(x):\n",
    "    x = x.numpy().reshape([28, 28])\n",
    "    plt.imshow(x)\n",
    "    plt.show()"
   ]
  },
  {
   "cell_type": "code",
   "execution_count": 74,
   "metadata": {},
   "outputs": [
    {
     "data": {
      "image/png": "[encoded data removed]",
      "text/plain": [
       "<Figure size 432x288 with 1 Axes>"
      ]
     },
     "metadata": {
      "needs_background": "light"
     },
     "output_type": "display_data"
    },
    {
     "data": {
      "image/png": "[encoded data removed]",
      "text/plain": [
       "<Figure size 432x288 with 1 Axes>"
      ]
     },
     "metadata": {
      "needs_background": "light"
     },
     "output_type": "display_data"
    },
    {
     "data": {
      "image/png": "[encoded data removed]",
      "text/plain": [
       "<Figure size 432x288 with 1 Axes>"
      ]
     },
     "metadata": {
      "needs_background": "light"
     },
     "output_type": "display_data"
    }
   ],
   "source": [
    "i = 1\n",
    "display_image(test_X[i, :])\n",
    "display_image(noised_X[i, :])\n",
    "display_image(relaxed_X[i, :])"
   ]
  },
  {
   "cell_type": "markdown",
   "metadata": {},
   "source": [
    "## Conclusions\n",
    "\n",
    "TODO\n",
    "\n",
    "### Instability\n",
    "\n",
    "### Persistance\n"
   ]
  }
 ],
 "metadata": {
  "kernelspec": {
   "display_name": "Python 3.9.12 64-bit (system)",
   "language": "python",
   "name": "python3"
  },
  "language_info": {
   "codemirror_mode": {
    "name": "ipython",
    "version": 3
   },
   "file_extension": ".py",
   "mimetype": "text/x-python",
   "name": "python",
   "nbconvert_exporter": "python",
   "pygments_lexer": "ipython3",
   "version": "3.9.12"
  },
  "orig_nbformat": 4,
  "vscode": {
   "interpreter": {
    "hash": "667704c9cde27bc2120aa5af210b8dcad396b18ac5d66ebd3bcf266d25dea31f"
   }
  }
 },
 "nbformat": 4,
 "nbformat_minor": 2
}
