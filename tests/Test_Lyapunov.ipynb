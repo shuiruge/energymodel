{
  "cells": [
    {
      "cell_type": "code",
      "execution_count": 1,
      "metadata": {
        "id": "nbSkSMwck24m"
      },
      "outputs": [],
      "source": [
        "import numpy as np\n",
        "import tensorflow as tf\n",
        "from tensorflow.keras import models, layers\n",
        "import matplotlib.pyplot as plt\n",
        "from tqdm import tqdm\n",
        "from datetime import datetime\n",
        "\n",
        "from energymodel import (\n",
        "    EnergyModel, EMSolver, random_uniform, NanMonitor, Lyapunov\n",
        ")\n",
        "\n",
        "tf.compat.v1.reset_default_graph()"
      ]
    },
    {
      "cell_type": "markdown",
      "metadata": {},
      "source": [
        "## Dataset"
      ]
    },
    {
      "cell_type": "code",
      "execution_count": 2,
      "metadata": {},
      "outputs": [],
      "source": [
        "def remap(x):\n",
        "    \"\"\"Re-map the x to the range [-1, 1].\"\"\"\n",
        "    return tf.where(\n",
        "        x < -1,\n",
        "        -x - 2,\n",
        "        tf.where(\n",
        "            x > 1,\n",
        "            -x + 2,\n",
        "            x))\n",
        "\n",
        "def vector_field(z):\n",
        "    x = z[:, 0][:, tf.newaxis]\n",
        "    l = z[:, 1][:, tf.newaxis]\n",
        "\n",
        "    l = -0.5 - remap(l + 0.5)\n",
        "\n",
        "    dx = l * x + 2 * x**2 - x**3\n",
        "    dl = tf.zeros_like(l)\n",
        "\n",
        "    return tf.concat([dx, dl], axis=1)\n",
        "\n",
        "def resample(batch_size):\n",
        "    # x in (-0.5, 1.5)\n",
        "    # x = 0.5 + random_uniform([batch_size, 1])\n",
        "    # x in (-1, 3)\n",
        "    x = 1 + 2 * random_uniform([batch_size, 1])\n",
        "    # l in (-1.5, 0.5)\n",
        "    l = -0.5 + random_uniform([batch_size, 1])\n",
        "    return tf.concat([x, l], axis=1)\n",
        "\n",
        "\n",
        "batch_size = 128\n",
        "solver = EMSolver(dt=1e-1, eps=1e-2)\n",
        "\n",
        "lyapunov = Lyapunov(\n",
        "    vector_field,\n",
        "    resample,\n",
        "    solver,\n",
        "    5e-0,\n",
        "    T=1e-2,\n",
        "    batch_size=batch_size,\n",
        ")"
      ]
    },
    {
      "cell_type": "markdown",
      "metadata": {
        "id": "42qCNMp7k24r"
      },
      "source": [
        "## Model"
      ]
    },
    {
      "cell_type": "code",
      "execution_count": 3,
      "metadata": {
        "id": "a0WnwHqck24t"
      },
      "outputs": [
        {
          "name": "stdout",
          "output_type": "stream",
          "text": [
            "T = 0.0119639011\n"
          ]
        }
      ],
      "source": [
        "network = models.Sequential([\n",
        "    layers.Dense(256),\n",
        "    layers.Activation('swish'),\n",
        "\n",
        "    layers.Dense(64),\n",
        "    layers.Activation('swish'),\n",
        "\n",
        "    layers.Dense(1, use_bias=False),\n",
        "])\n",
        "network(resample(batch_size))  # build.\n",
        "\n",
        "model = EnergyModel(\n",
        "    network,\n",
        "    resample,\n",
        "    solver,\n",
        "    5e-0,\n",
        ")\n",
        "tf.print('T =', model.T)\n",
        "\n",
        "optimizer = tf.keras.optimizers.Adam(1e-3, clipvalue=1e-1)\n",
        "callbacks = [\n",
        "    NanMonitor(5),\n",
        "]\n",
        "\n",
        "train_step = model.get_optimize_fn(optimizer, callbacks)\n",
        "train_step = tf.function(train_step)"
      ]
    },
    {
      "cell_type": "code",
      "execution_count": 4,
      "metadata": {},
      "outputs": [],
      "source": [
        "def criterion(test_batch):\n",
        "    return tf.reduce_sum(model.vector_field(test_batch) * vector_field(test_batch), axis=1)\n",
        "\n",
        "test_batch = resample(batch_size)"
      ]
    },
    {
      "cell_type": "code",
      "execution_count": 5,
      "metadata": {},
      "outputs": [
        {
          "data": {
            "image/png": "[encoded data removed]",
            "text/plain": [
              "<Figure size 432x288 with 1 Axes>"
            ]
          },
          "metadata": {
            "needs_background": "light"
          },
          "output_type": "display_data"
        }
      ],
      "source": [
        "Y = criterion(test_batch)\n",
        "plt.hist(Y.numpy(), bins=100)\n",
        "plt.show()"
      ]
    },
    {
      "cell_type": "code",
      "execution_count": 6,
      "metadata": {
        "id": "7us7P1iJk24t"
      },
      "outputs": [
        {
          "name": "stderr",
          "output_type": "stream",
          "text": [
            "100%|██████████| 2000/2000 [02:41<00:00, 12.37it/s]\n"
          ]
        }
      ],
      "source": [
        "for step in tqdm(range(2000)):\n",
        "    batch = lyapunov()\n",
        "    train_step(batch)"
      ]
    },
    {
      "cell_type": "code",
      "execution_count": 7,
      "metadata": {},
      "outputs": [
        {
          "data": {
            "image/png": "[encoded data removed]",
            "text/plain": [
              "<Figure size 432x288 with 1 Axes>"
            ]
          },
          "metadata": {
            "needs_background": "light"
          },
          "output_type": "display_data"
        }
      ],
      "source": [
        "plt.hist(lyapunov().numpy()[:, 0], bins=100, label='x')\n",
        "plt.legend()\n",
        "plt.show()"
      ]
    },
    {
      "cell_type": "code",
      "execution_count": 8,
      "metadata": {},
      "outputs": [
        {
          "data": {
            "image/png": "[encoded data removed]",
            "text/plain": [
              "<Figure size 432x288 with 1 Axes>"
            ]
          },
          "metadata": {
            "needs_background": "light"
          },
          "output_type": "display_data"
        }
      ],
      "source": [
        "plt.hist(lyapunov().numpy()[:, 1], label='$\\lambda$')\n",
        "plt.legend()\n",
        "plt.show()"
      ]
    },
    {
      "cell_type": "markdown",
      "metadata": {
        "id": "A0Cu4-btk24t"
      },
      "source": [
        "## Evaluation"
      ]
    },
    {
      "cell_type": "code",
      "execution_count": 9,
      "metadata": {},
      "outputs": [
        {
          "data": {
            "image/png": "[encoded data removed]",
            "text/plain": [
              "<Figure size 432x288 with 1 Axes>"
            ]
          },
          "metadata": {
            "needs_background": "light"
          },
          "output_type": "display_data"
        },
        {
          "name": "stdout",
          "output_type": "stream",
          "text": [
            "-0.005758485\n"
          ]
        }
      ],
      "source": [
        "Y2 = criterion(test_batch)\n",
        "plt.hist(Y2.numpy(), bins=100)\n",
        "plt.show()\n",
        "print(Y2.numpy().min())"
      ]
    },
    {
      "cell_type": "markdown",
      "metadata": {},
      "source": [
        "## Visualization"
      ]
    },
    {
      "cell_type": "code",
      "execution_count": 48,
      "metadata": {},
      "outputs": [
        {
          "data": {
            "image/png": "[encoded data removed]",
            "text/plain": [
              "<Figure size 432x288 with 2 Axes>"
            ]
          },
          "metadata": {
            "needs_background": "light"
          },
          "output_type": "display_data"
        }
      ],
      "source": [
        "num_grids = 12\n",
        "plot_X, plot_Y = np.meshgrid(\n",
        "    np.linspace(-1, 3, num_grids),\n",
        "    np.linspace(-1.5, 0.5, num_grids),\n",
        ")\n",
        "plot_batch = np.concatenate(\n",
        "    [plot_X.reshape([-1, 1]), plot_Y.reshape([-1, 1])],\n",
        "    axis=1\n",
        ")\n",
        "E = -network(plot_batch).numpy().reshape(num_grids, num_grids)\n",
        "plt.contourf(plot_X, plot_Y, E, 30, alpha=0.5)\n",
        "plt.colorbar()\n",
        "\n",
        "vec = vector_field(plot_batch).numpy().reshape(num_grids, num_grids, 2)\n",
        "vec = np.sign(vec)\n",
        "vec_X, vec_Y = vec[:, :, 0], vec[:, :, 1]\n",
        "plt.quiver(plot_X, plot_Y, vec_X, vec_Y)\n",
        "\n",
        "plt.xlabel('$x$')\n",
        "plt.ylabel('$\\lambda$')\n",
        "plt.show()"
      ]
    },
    {
      "cell_type": "code",
      "execution_count": 49,
      "metadata": {},
      "outputs": [
        {
          "data": {
            "image/png": "[encoded data removed]",
            "text/plain": [
              "<Figure size 432x288 with 1 Axes>"
            ]
          },
          "metadata": {
            "needs_background": "light"
          },
          "output_type": "display_data"
        },
        {
          "name": "stdout",
          "output_type": "stream",
          "text": [
            "-0.00832038688467105\n"
          ]
        }
      ],
      "source": [
        "plot_Y = criterion(tf.convert_to_tensor(plot_batch))\n",
        "plt.hist(plot_Y.numpy(), bins=100)\n",
        "plt.show()\n",
        "\n",
        "print(plot_Y.numpy().min())"
      ]
    }
  ],
  "metadata": {
    "accelerator": "GPU",
    "colab": {
      "collapsed_sections": [],
      "name": "Test Energy Model on MNIST.ipynb",
      "private_outputs": true,
      "provenance": []
    },
    "gpuClass": "standard",
    "kernelspec": {
      "display_name": "Python 3.9.12 64-bit (system)",
      "language": "python",
      "name": "python3"
    },
    "language_info": {
      "codemirror_mode": {
        "name": "ipython",
        "version": 3
      },
      "file_extension": ".py",
      "mimetype": "text/x-python",
      "name": "python",
      "nbconvert_exporter": "python",
      "pygments_lexer": "ipython3",
      "version": "3.9.12"
    },
    "orig_nbformat": 4,
    "vscode": {
      "interpreter": {
        "hash": "667704c9cde27bc2120aa5af210b8dcad396b18ac5d66ebd3bcf266d25dea31f"
      }
    }
  },
  "nbformat": 4,
  "nbformat_minor": 0
}
