{
  "cells": [
    {
      "cell_type": "code",
      "execution_count": 1,
      "metadata": {
        "id": "nbSkSMwck24m"
      },
      "outputs": [],
      "source": [
        "import tensorflow as tf\n",
        "from tensorflow.keras import models, layers\n",
        "import matplotlib.pyplot as plt\n",
        "from tqdm import tqdm\n",
        "from datetime import datetime\n",
        "\n",
        "from energymodel import (\n",
        "    EnergyModel, EMSolver, random_uniform, LossMonitor, FantasyParticleMonitor,\n",
        "    VectorFieldMonitor, LossGradientMonitor, NanMonitor, Lyapunov\n",
        ")\n",
        "\n",
        "tf.compat.v1.reset_default_graph()"
      ]
    },
    {
      "cell_type": "markdown",
      "metadata": {},
      "source": [
        "## Dataset"
      ]
    },
    {
      "cell_type": "code",
      "execution_count": 2,
      "metadata": {},
      "outputs": [],
      "source": [
        "def vector_field(z):\n",
        "    x = z[:, 0][:, tf.newaxis]\n",
        "    l = z[:, 1][:, tf.newaxis]\n",
        "\n",
        "    dx = l * x + 2 * x**2 - x**3\n",
        "    dl = tf.zeros_like(l)\n",
        "\n",
        "    return tf.concat([dx, dl], axis=1)\n",
        "\n",
        "input_shape = [2]\n",
        "batch_size = 128\n",
        "resample = lambda batch_size: 0.5 * random_uniform([batch_size, *input_shape])\n",
        "solver = EMSolver(dt=1e-1, eps=1e-2)\n",
        "\n",
        "lyapunov = Lyapunov(\n",
        "    vector_field,\n",
        "    resample(batch_size),\n",
        "    solver,\n",
        "    1e-1,\n",
        ")"
      ]
    },
    {
      "cell_type": "markdown",
      "metadata": {
        "id": "42qCNMp7k24r"
      },
      "source": [
        "## Model"
      ]
    },
    {
      "cell_type": "code",
      "execution_count": 3,
      "metadata": {
        "id": "a0WnwHqck24t"
      },
      "outputs": [
        {
          "name": "stdout",
          "output_type": "stream",
          "text": [
            "T = 0.0367310867\n"
          ]
        }
      ],
      "source": [
        "network = models.Sequential([\n",
        "    layers.Dense(512),\n",
        "    layers.Activation('swish'),\n",
        "\n",
        "    layers.Dense(1, use_bias=False),\n",
        "])\n",
        "network(resample(batch_size))  # build.\n",
        "\n",
        "model = EnergyModel(\n",
        "    network,\n",
        "    resample,\n",
        "    solver,\n",
        "    5e-0,\n",
        ")\n",
        "tf.print('T =', model.T)\n",
        "\n",
        "optimizer = tf.keras.optimizers.Adam(1e-3, clipvalue=1e-1)\n",
        "logdir = \"logdir/\" + datetime.now().strftime(\"%Y%m%d-%H%M%S\")\n",
        "writer = tf.summary.create_file_writer(logdir)\n",
        "callbacks = [\n",
        "    LossMonitor(writer, 5),\n",
        "    FantasyParticleMonitor(writer, model, 5),\n",
        "    VectorFieldMonitor(writer, model, 5),\n",
        "    LossGradientMonitor(writer, model, 5),\n",
        "    NanMonitor(5),\n",
        "]\n",
        "\n",
        "train_step = model.get_optimize_fn(optimizer, callbacks)\n",
        "train_step = tf.function(train_step)"
      ]
    },
    {
      "cell_type": "code",
      "execution_count": 4,
      "metadata": {},
      "outputs": [],
      "source": [
        "def criterion(test_batch):\n",
        "    return tf.reduce_sum(model.vector_field(test_batch) * vector_field(test_batch), axis=1)\n",
        "\n",
        "test_batch = resample(batch_size)"
      ]
    },
    {
      "cell_type": "code",
      "execution_count": 5,
      "metadata": {},
      "outputs": [
        {
          "data": {
            "image/png": "[encoded data removed]",
            "text/plain": [
              "<Figure size 432x288 with 1 Axes>"
            ]
          },
          "metadata": {
            "needs_background": "light"
          },
          "output_type": "display_data"
        }
      ],
      "source": [
        "Y = criterion(test_batch)\n",
        "plt.hist(Y.numpy(), bins=50)\n",
        "plt.show()"
      ]
    },
    {
      "cell_type": "code",
      "execution_count": 6,
      "metadata": {
        "id": "7us7P1iJk24t"
      },
      "outputs": [
        {
          "name": "stderr",
          "output_type": "stream",
          "text": [
            "100%|██████████| 2000/2000 [00:31<00:00, 63.05it/s]\n"
          ]
        }
      ],
      "source": [
        "# Two epochs are enough!\n",
        "for step in tqdm(range(2000)):\n",
        "    batch = lyapunov()\n",
        "    if tf.greater(step, 500):\n",
        "        train_step(batch)"
      ]
    },
    {
      "cell_type": "markdown",
      "metadata": {
        "id": "A0Cu4-btk24t"
      },
      "source": [
        "## Evaluation"
      ]
    },
    {
      "cell_type": "code",
      "execution_count": 7,
      "metadata": {},
      "outputs": [
        {
          "data": {
            "image/png": "[encoded data removed]",
            "text/plain": [
              "<Figure size 432x288 with 1 Axes>"
            ]
          },
          "metadata": {
            "needs_background": "light"
          },
          "output_type": "display_data"
        }
      ],
      "source": [
        "Y2 = criterion(test_batch)\n",
        "plt.hist(Y2.numpy(), bins=50)\n",
        "plt.show()"
      ]
    }
  ],
  "metadata": {
    "accelerator": "GPU",
    "colab": {
      "collapsed_sections": [],
      "name": "Test Energy Model on MNIST.ipynb",
      "private_outputs": true,
      "provenance": []
    },
    "gpuClass": "standard",
    "kernelspec": {
      "display_name": "Python 3.9.12 64-bit (system)",
      "language": "python",
      "name": "python3"
    },
    "language_info": {
      "codemirror_mode": {
        "name": "ipython",
        "version": 3
      },
      "file_extension": ".py",
      "mimetype": "text/x-python",
      "name": "python",
      "nbconvert_exporter": "python",
      "pygments_lexer": "ipython3",
      "version": "3.9.12"
    },
    "orig_nbformat": 4,
    "vscode": {
      "interpreter": {
        "hash": "667704c9cde27bc2120aa5af210b8dcad396b18ac5d66ebd3bcf266d25dea31f"
      }
    }
  },
  "nbformat": 4,
  "nbformat_minor": 0
}
