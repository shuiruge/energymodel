{
 "cells": [
  {
   "cell_type": "code",
   "execution_count": null,
   "metadata": {
    "id": "nbSkSMwck24m"
   },
   "outputs": [],
   "source": [
    "import numpy as np\n",
    "import tensorflow as tf\n",
    "from tensorflow.keras import models, layers\n",
    "import matplotlib.pyplot as plt\n",
    "from tqdm import tqdm\n",
    "from datetime import datetime\n",
    "\n",
    "from energymodel import (\n",
    "    EnergyModel, EMSolver, random_uniform, NanMonitor, Lyapunov\n",
    ")\n",
    "\n",
    "tf.compat.v1.reset_default_graph()"
   ]
  },
  {
   "cell_type": "markdown",
   "metadata": {},
   "source": [
    "## Dataset"
   ]
  },
  {
   "cell_type": "code",
   "execution_count": null,
   "metadata": {},
   "outputs": [],
   "source": [
    "def resample(batch_size):\n",
    "    return random_uniform([batch_size, 3])  # 3D dynamics.\n",
    "\n",
    "\n",
    "def to_tensor(x):\n",
    "    return tf.convert_to_tensor(x, dtype='float32')\n",
    "\n",
    "\n",
    "class LorenzDynamics:\n",
    "    \"\"\"The Lorenz dynamics, famous for its chaotic property.\n",
    "    \n",
    "    The usual setting of paramters is `sigma = 10`, `beta = 8/3`,\n",
    "    and `rho` is adjustable. With this setting, the three phases\n",
    "    of the dynamics are:\n",
    "\n",
    "        1. `0 < rho < 1`: single stable attractor at the origin;\n",
    "        2. `1 < rho < 24.74`: double stable attractor;\n",
    "        3. `rho > 24.74`: strange attractors, i.e. chaotic behavior.\n",
    "\n",
    "    Reference:\n",
    "        [Wikipedia: Lorenz system](https://en.wikipedia.org/wiki/Lorenz_system).  # noqa:E501\n",
    "    \"\"\"\n",
    "    \n",
    "    def __init__(self,\n",
    "                 sigma: float,\n",
    "                 beta: float,\n",
    "                 rho: float,\n",
    "                 scale: float = None):\n",
    "        \"\"\"\n",
    "        Args:\n",
    "            sigma: The Lorenz parameter.\n",
    "            beta: The Lorenz parameter.\n",
    "            rho: The Lorenz parameter.\n",
    "            scale: The input variable, generally standarized to (-1, 1),\n",
    "                can be scaled by multiplying `scale`, so as to fit the\n",
    "                real scale in the Lorenz dynamics. The output will be\n",
    "                scaled back by dividing `scale`. Defaults to `1`.\n",
    "        \"\"\"\n",
    "        self.sigma = to_tensor(sigma)\n",
    "        self.beta = to_tensor(beta)\n",
    "        self.rho = to_tensor(rho)\n",
    "\n",
    "        if scale is None:\n",
    "            scale = 1\n",
    "        self.scale = to_tensor(scale)\n",
    "\n",
    "    def _std_dynamics(self, v):\n",
    "        \"\"\"The standard Lorenz dynamics.\"\"\"\n",
    "        x, y, z = tf.unstack(v, axis=1)\n",
    "\n",
    "        dx = self.sigma * (y - x)\n",
    "        dy = x * (self.rho - z) - y\n",
    "        dz = x * y - self.beta * z\n",
    "\n",
    "        return tf.stack([dx, dy, dz], axis=1)\n",
    "\n",
    "    def __call__(self, v):\n",
    "        return self._std_dynamics(v * self.scale) / self.scale"
   ]
  },
  {
   "cell_type": "code",
   "execution_count": null,
   "metadata": {},
   "outputs": [],
   "source": [
    "batch_size = 128\n",
    "solver = EMSolver(dt=1e-2, eps=1e-2)\n",
    "vector_field = LorenzDynamics(10, 8/3, 28, scale=5)\n",
    "lyapunov = Lyapunov(\n",
    "    vector_field,\n",
    "    resample,\n",
    "    solver,\n",
    "    t=1e-0,\n",
    "    T=1e-2,\n",
    ")"
   ]
  },
  {
   "cell_type": "code",
   "execution_count": null,
   "metadata": {},
   "outputs": [],
   "source": [
    "plot_lyapunov = lyapunov(batch_size * 10).numpy()"
   ]
  },
  {
   "cell_type": "code",
   "execution_count": null,
   "metadata": {},
   "outputs": [],
   "source": [
    "plt.scatter(plot_lyapunov[:, 0], plot_lyapunov[:, 1], alpha=0.2)\n",
    "plt.show()"
   ]
  },
  {
   "cell_type": "code",
   "execution_count": null,
   "metadata": {},
   "outputs": [],
   "source": [
    "fig = plt.figure()\n",
    "ax = fig.add_subplot(projection='3d')\n",
    "ax.scatter(plot_lyapunov[:, 0], plot_lyapunov[:, 1], plot_lyapunov[:, 2], alpha=0.2)\n",
    "plt.show()"
   ]
  },
  {
   "cell_type": "markdown",
   "metadata": {
    "id": "42qCNMp7k24r"
   },
   "source": [
    "## Model"
   ]
  },
  {
   "cell_type": "code",
   "execution_count": null,
   "metadata": {
    "id": "a0WnwHqck24t"
   },
   "outputs": [],
   "source": [
    "network = models.Sequential([\n",
    "    layers.Dense(256),\n",
    "    layers.Activation('swish'),\n",
    "\n",
    "    layers.Dense(256),\n",
    "    layers.Activation('swish'),\n",
    "\n",
    "    layers.Dense(64),\n",
    "    layers.Activation('swish'),\n",
    "\n",
    "    layers.Dense(1, use_bias=False),\n",
    "])\n",
    "network(resample(batch_size))  # build.\n",
    "\n",
    "model = EnergyModel(\n",
    "    network,\n",
    "    resample,\n",
    "    solver,\n",
    "    t=1e-0,\n",
    ")\n",
    "tf.print('T =', model.T)\n",
    "\n",
    "optimizer = tf.optimizers.Adam(learning_rate=1e-3, clipvalue=1e-1)\n",
    "callbacks = [\n",
    "    NanMonitor(50),\n",
    "]\n",
    "\n",
    "train_step = model.get_optimize_fn(optimizer, callbacks)\n",
    "train_step = tf.function(train_step)"
   ]
  },
  {
   "cell_type": "code",
   "execution_count": null,
   "metadata": {
    "id": "7us7P1iJk24t"
   },
   "outputs": [],
   "source": [
    "for step in tqdm(range(5000)):\n",
    "    batch = lyapunov(batch_size)\n",
    "    train_step(batch)"
   ]
  },
  {
   "cell_type": "markdown",
   "metadata": {
    "id": "A0Cu4-btk24t"
   },
   "source": [
    "## Evaluation\n",
    "\n",
    "- [ ] <font color=\"red\">How to properly visualize the 3D dynamics?</font>"
   ]
  },
  {
   "cell_type": "code",
   "execution_count": null,
   "metadata": {},
   "outputs": [],
   "source": [
    "fig = plt.figure(figsize=(12, 8))\n",
    "\n",
    "# Contour Plot\n",
    "num_grids = 30\n",
    "# Determine the range by the previous 3D plot.\n",
    "plot_X, plot_Y = np.meshgrid(\n",
    "    np.linspace(-3, 3, num_grids),\n",
    "    np.linspace(-3, 3, num_grids),\n",
    ")\n",
    "# Since it's a 3D dynamics, the Z-axis shall be determined.\n",
    "# We use constant Z.\n",
    "plot_batch = np.stack(\n",
    "    [\n",
    "        plot_X.reshape([-1]).astype('float32'),\n",
    "        plot_Y.reshape([-1]).astype('float32'),\n",
    "        2 * np.ones_like(plot_Y).reshape([-1]).astype('float32'),\n",
    "    ],\n",
    "    axis=1)\n",
    "network_vals = network(plot_batch).numpy().reshape(num_grids, num_grids)\n",
    "plt.contourf(plot_X, plot_Y, network_vals, 50, alpha=0.5)\n",
    "plt.colorbar()\n",
    "\n",
    "# Vector Plot\n",
    "vec = vector_field(plot_batch).numpy().reshape(num_grids, num_grids, 3)\n",
    "# vec = np.sign(vec)\n",
    "vec_X, vec_Y = vec[:, :, 0], vec[:, :, 1]\n",
    "plt.quiver(plot_X, plot_Y, vec_X, vec_Y)\n",
    "\n",
    "plt.xlabel('x')\n",
    "plt.ylabel('y')\n",
    "\n",
    "plt.title('Network and Vector Field')\n",
    "plt.show()"
   ]
  },
  {
   "cell_type": "code",
   "execution_count": null,
   "metadata": {},
   "outputs": [],
   "source": [
    "def dot(x, y):\n",
    "    return tf.reduce_sum(x * y, axis=1)\n",
    "\n",
    "\n",
    "def criterion(test_batch):\n",
    "    return dot(model.vector_field(test_batch), vector_field(test_batch))"
   ]
  },
  {
   "cell_type": "code",
   "execution_count": null,
   "metadata": {},
   "outputs": [],
   "source": [
    "plot_criterion = criterion(tf.convert_to_tensor(plot_batch))\n",
    "plot_criterion = plot_criterion.numpy().reshape([num_grids, num_grids])\n",
    "\n",
    "plt.hist(plot_criterion.reshape([-1]), bins=100)\n",
    "plt.title('Criterion on Grids')\n",
    "plt.show()\n",
    "\n",
    "print('Minimum =', plot_criterion.min())"
   ]
  },
  {
   "cell_type": "code",
   "execution_count": null,
   "metadata": {},
   "outputs": [],
   "source": [
    "plt.contourf(plot_X, plot_Y, plot_criterion, 50, alpha=0.5)\n",
    "plt.colorbar()\n",
    "plt.title('Criterion on Grids')\n",
    "plt.show()"
   ]
  },
  {
   "cell_type": "code",
   "execution_count": null,
   "metadata": {},
   "outputs": [],
   "source": []
  }
 ],
 "metadata": {
  "accelerator": "GPU",
  "colab": {
   "collapsed_sections": [],
   "name": "Test Energy Model on MNIST.ipynb",
   "private_outputs": true,
   "provenance": []
  },
  "gpuClass": "standard",
  "kernelspec": {
   "display_name": "Python 3 (ipykernel)",
   "language": "python",
   "name": "python3"
  },
  "language_info": {
   "codemirror_mode": {
    "name": "ipython",
    "version": 3
   },
   "file_extension": ".py",
   "mimetype": "text/x-python",
   "name": "python",
   "nbconvert_exporter": "python",
   "pygments_lexer": "ipython3",
   "version": "3.7.16"
  },
  "vscode": {
   "interpreter": {
    "hash": "8d83449ad2ec44c9393b35d698f4e138803e25c8e73bd2a9daf173af7b1f4d83"
   }
  }
 },
 "nbformat": 4,
 "nbformat_minor": 1
}
